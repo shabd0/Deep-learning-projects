{
 "cells": [
  {
   "cell_type": "code",
   "execution_count": 23,
   "metadata": {
    "executionInfo": {
     "elapsed": 4,
     "status": "ok",
     "timestamp": 1710281014940,
     "user": {
      "displayName": "shatha abdallah",
      "userId": "12480824719387281110"
     },
     "user_tz": -180
    },
    "id": "yzA-G1DNsKpq"
   },
   "outputs": [],
   "source": [
    "import numpy as np"
   ]
  },
  {
   "cell_type": "markdown",
   "metadata": {},
   "source": [
    "# Training data"
   ]
  },
  {
   "cell_type": "code",
   "execution_count": 2,
   "metadata": {
    "colab": {
     "base_uri": "https://localhost:8080/"
    },
    "executionInfo": {
     "elapsed": 3464,
     "status": "ok",
     "timestamp": 1710285881282,
     "user": {
      "displayName": "shatha abdallah",
      "userId": "12480824719387281110"
     },
     "user_tz": -180
    },
    "id": "SEdWe91v3HVB",
    "outputId": "ab4983a8-090a-4223-ea8c-1f6a9800f9f4",
    "tags": []
   },
   "outputs": [
    {
     "name": "stdin",
     "output_type": "stream",
     "text": [
      "Enter number of epochs:  1000\n",
      "Enter the value of learning rate:  0.1\n"
     ]
    },
    {
     "name": "stdout",
     "output_type": "stream",
     "text": [
      "[[1.   1.   0.08 0.72 1.  ]\n",
      " [1.   1.   0.1  1.   1.  ]\n",
      " [1.   1.   0.26 0.58 1.  ]\n",
      " [1.   1.   0.35 0.95 0.  ]\n",
      " [1.   1.   0.45 0.15 1.  ]\n",
      " [1.   1.   0.6  0.3  1.  ]\n",
      " [1.   1.   0.7  0.65 0.  ]\n",
      " [1.   1.   0.92 0.45 0.  ]]\n",
      "When learning rate =:0.1\n",
      "Final weights will be: [ 0.1    0.1   -0.158 -0.182]\n",
      "The predict value will be= [1, 1, 1, 0, 1, 1, 0, 0]\n"
     ]
    }
   ],
   "source": [
    "import numpy as np\n",
    "\n",
    "def training(data,n,learning_rate,w):\n",
    "    x0=np.ones((len(data),1))\n",
    "    data=np.concatenate((x0,data),axis=1)\n",
    "    target = data[:, 4]\n",
    "    ll = []\n",
    "    #w = [0, 0, 0]\n",
    "    a = 0\n",
    "    while a < n:\n",
    "        for i in range(len(data)):\n",
    "            x = data[i, :4]\n",
    "            y = data[i, 4]\n",
    "            weighted_sum = np.dot(x, w.T)\n",
    "\n",
    "            if weighted_sum >= 0:\n",
    "                output = 1\n",
    "            else:\n",
    "                output = 0\n",
    "            ll.append(output)\n",
    "            for d in range(0, 4):\n",
    "                w[d] = w[d] + learning_rate * (target[i] - output) * x[d]\n",
    "        a += 1\n",
    "    print(f'When learning rate =:{learning_rate}')\n",
    "    print(\"Final weights will be:\", w)\n",
    "    print(f'The predict value will be=',ll[len(ll)-8:len(ll)])\n",
    "    \n",
    "# Her I add a new coulmn in the first is a x0 and but value 1 on it \n",
    "data = np.array([\n",
    "    [1.00, 0.08, 0.72, 1.0],\n",
    "    [1.00, 0.10, 1.00, 1.0],\n",
    "    [1.00, 0.26, 0.58, 1.0],\n",
    "    [1.00, 0.35, 0.95, 0.0],\n",
    "    [1.00, 0.45, 0.15, 1.0],\n",
    "    [1.00, 0.60, 0.30, 1.0],\n",
    "    [1.00, 0.70, 0.65, 0.0],\n",
    "    [1.00, 0.92, 0.45, 0.0]])\n",
    "w = np.zeros(4)\n",
    "n = int(input('Enter number of epochs: '))\n",
    "learning_rate=float(input('Enter the value of learning rate: '))\n",
    "training(data,n,learning_rate,w)"
   ]
  },
  {
   "cell_type": "markdown",
   "metadata": {},
   "source": [
    "# Testing data "
   ]
  },
  {
   "cell_type": "code",
   "execution_count": 3,
   "metadata": {
    "colab": {
     "base_uri": "https://localhost:8080/"
    },
    "executionInfo": {
     "elapsed": 2960,
     "status": "ok",
     "timestamp": 1710285915569,
     "user": {
      "displayName": "shatha abdallah",
      "userId": "12480824719387281110"
     },
     "user_tz": -180
    },
    "id": "USz7JqF63Htg",
    "outputId": "5fd21b5f-29aa-490b-c9dc-ac414606e1e2"
   },
   "outputs": [
    {
     "name": "stdin",
     "output_type": "stream",
     "text": [
      "Enter number of epochs:  1000\n",
      "Enter the value of learning rate:  0.1\n"
     ]
    },
    {
     "name": "stdout",
     "output_type": "stream",
     "text": [
      "[[1.   1.   0.42 0.85 0.  ]\n",
      " [1.   1.   0.65 0.55 0.  ]\n",
      " [1.   1.   0.2  0.3  1.  ]\n",
      " [1.   1.   0.2  1.   0.  ]\n",
      " [1.   1.   0.85 0.1  1.  ]]\n",
      "When learning rate =:0.1\n",
      "Final weights will be: [ 0.1    0.1   -0.158 -0.182]\n",
      "The predict value will be: [0, 0, 1, 0, 1]\n"
     ]
    }
   ],
   "source": [
    "import numpy as np\n",
    "def testing(data,n,learning_rate):\n",
    "    x0=np.ones((len(data),1))\n",
    "    data=np.concatenate((x0,data),axis=1)\n",
    "    print(data)\n",
    "    target = data[:, 4]\n",
    "    ll = []\n",
    "    a = 0\n",
    "    while a < n:\n",
    "        #Here I divided the data and put the label in Y and the features in X\n",
    "        for i in range(len(data)):\n",
    "            x = data[i, :4]\n",
    "            y = data[i, 4]\n",
    "            #I multiplied the features with the transpose of weights\n",
    "            weighted_sum = np.dot(x, w.T)\n",
    "            # I do the activation function \n",
    "            if weighted_sum >= 0:\n",
    "                output = 1\n",
    "            else:\n",
    "                output = 0\n",
    "            # I save the prediction value in another array  \n",
    "            ll.append(output)\n",
    "            # Here I modify and update the weights \n",
    "            for d in range(0, 4):\n",
    "                w[d] = w[d] + learning_rate * (target[i] - output) * x[d]\n",
    "        a += 1\n",
    "    print(f'When learning rate =:{learning_rate}')\n",
    "    print(\"Final weights will be:\", w)\n",
    "    print(f'The predict value will be:',ll[len(ll)-5:len(ll)])\n",
    "\n",
    "# Her I add a new coulmn in the first is a x0 and but value 1 on it\n",
    "date=np.array([[1.00,0.42,0.85,0.0],\n",
    "               [1.00,0.65,0.55,0.0],\n",
    "               [1.00,0.20,0.30,1.0],\n",
    "               [1.00,0.20,1.00,0.0],\n",
    "               [1.00,0.85,0.10,1.0]])\n",
    "n = int(input('Enter number of epochs: '))\n",
    "learning_rate=float(input('Enter the value of learning rate: '))\n",
    "testing(date,n,learning_rate)"
   ]
  },
  {
   "cell_type": "code",
   "execution_count": null,
   "metadata": {
    "id": "P1_CfHqUtzML"
   },
   "outputs": [],
   "source": []
  },
  {
   "cell_type": "code",
   "execution_count": null,
   "metadata": {
    "id": "-R5WR1u0tzfC"
   },
   "outputs": [],
   "source": []
  },
  {
   "cell_type": "code",
   "execution_count": null,
   "metadata": {
    "id": "UrXFRh0Wtzmi"
   },
   "outputs": [],
   "source": []
  }
 ],
 "metadata": {
  "colab": {
   "authorship_tag": "ABX9TyMWwadyKK6XUCJNSOAGgGWt",
   "provenance": [
    {
     "file_id": "11fTZf-W3FllDa6aTP0OpHR900NeFn2mo",
     "timestamp": 1710286864646
    }
   ]
  },
  "kernelspec": {
   "display_name": "Python 3 (ipykernel)",
   "language": "python",
   "name": "python3"
  },
  "language_info": {
   "codemirror_mode": {
    "name": "ipython",
    "version": 3
   },
   "file_extension": ".py",
   "mimetype": "text/x-python",
   "name": "python",
   "nbconvert_exporter": "python",
   "pygments_lexer": "ipython3",
   "version": "3.11.5"
  }
 },
 "nbformat": 4,
 "nbformat_minor": 4
}
