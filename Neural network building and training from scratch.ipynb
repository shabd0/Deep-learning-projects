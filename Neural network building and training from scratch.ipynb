{
 "cells": [
  {
   "cell_type": "code",
   "execution_count": 18,
   "id": "34175681-408e-4f19-bac2-bcb3a6ae0139",
   "metadata": {},
   "outputs": [],
   "source": [
    "import numpy as np\n",
    "import matplotlib.pyplot as plt\n",
    "import pandas as pd\n"
   ]
  },
  {
   "cell_type": "code",
   "execution_count": 19,
   "id": "b68db458-e57f-40dc-b953-d5757b6b093b",
   "metadata": {},
   "outputs": [],
   "source": [
    "# Sigmoid activation function and its derivative\n",
    "def sigmoid(x):\n",
    "    return 1 / (1 + np.exp(-x))\n",
    "\n",
    "def sigmoid_derivative(x):\n",
    "    return x * (1 - x)\n",
    "\n",
    "# Square error loss function\n",
    "def square_error_loss(target, output):\n",
    "    return (target - output) ** 2\n"
   ]
  },
  {
   "cell_type": "code",
   "execution_count": 20,
   "id": "8bc6ec5f-e42c-48e2-92c6-85a56207a673",
   "metadata": {},
   "outputs": [
    {
     "name": "stdin",
     "output_type": "stream",
     "text": [
      "inter number of epochs 20\n"
     ]
    }
   ],
   "source": [
    "data = pd.read_csv(\"C:\\\\Users\\\\shath\\\\Downloads\\\\moonDataset.csv\")\n",
    "\n",
    "X = data.iloc[:, :-1].values\n",
    "y = data.iloc[:, -1].values\n",
    "weights = {'W1': 0.2, 'W2': -0.3, 'W3': 0.4, 'W4': 0.1, 'W5': -0.5, 'W6': 0.2, 'W7': -0.3, 'W8': -0.2}\n",
    "biases = {'b1': -0.4, 'b2': 0.2, 'b3': 0.1}\n",
    "lr = 0.1\n",
    "epochs = int(input(\"inter number of epochs\"))\n",
    "loss_values = []\n"
   ]
  },
  {
   "cell_type": "code",
   "execution_count": 21,
   "id": "d32a4415-e7d8-40f6-91dd-e6061db5f947",
   "metadata": {
    "tags": []
   },
   "outputs": [
    {
     "data": {
      "text/plain": [
       "'\\nprint(\"Final Weights:\")\\nprint(\"W1 =\", weights[\\'W1\\'])\\nprint(\"W2 =\", weights[\\'W2\\'])\\nprint(\"W3 =\", weights[\\'W3\\'])\\nprint(\"W4 =\", weights[\\'W4\\'])\\nprint(\"W5 =\", weights[\\'W5\\'])\\nprint(\"W6 =\", weights[\\'W6\\'])\\nprint(\"W7 =\", weights[\\'W7\\'])\\nprint(\"W8 =\", weights[\\'W8\\'])\\n\\nprint(\"Final Biases:\")\\nprint(\"b1 =\", biases[\\'b1\\'])\\nprint(\"b2 =\", biases[\\'b2\\'])\\nprint(\"b3 =\", biases[\\'b3\\'])\\n\\nprint(\\'loss_values =\\' ,loss_values)\\n# Plot the loss over epochs\\nplt.plot(range(epochs), loss_values)\\nplt.xlabel(\\'Epochs\\')\\nplt.ylabel(\\'Loss\\')\\nplt.title(\\'Loss Over Epochs\\')\\nplt.show()\\n'"
      ]
     },
     "execution_count": 21,
     "metadata": {},
     "output_type": "execute_result"
    }
   ],
   "source": [
    "\n",
    "# Training loop\n",
    "for epoch in range(epochs):\n",
    "    epoch_loss = 0\n",
    "    for i in range(len(X)):\n",
    "        # Extract the current example's features and label\n",
    "        x1, x2, x3, target = X[i][0], X[i][1], X[i][2], y[i]\n",
    "        \n",
    "        # Forward pass\n",
    "        h1 = weights['W1']*x1 + weights['W2']*x2 + weights['W3']*x3 + biases['b1']\n",
    "        h2 = weights['W4']*x1 + weights['W5']*x2 + weights['W6']*x3 + biases['b2']\n",
    "        s1 = sigmoid(h1)\n",
    "        s2 = sigmoid(h2)\n",
    "        out = weights['W7']*s1 + weights['W8']*s2 + biases['b3']\n",
    "        outs = sigmoid(out)\n",
    "        \n",
    "        # Compute loss for the current example and add it to the epoch loss\n",
    "        loss = square_error_loss(target, outs)\n",
    "        epoch_loss += loss\n",
    "        \n",
    "        # Backpropagation\n",
    "        error =  -2* (target - outs)\n",
    "        derivative_out = error * sigmoid_derivative(outs)\n",
    "        \n",
    "        # Update weights and biases for output layer\n",
    "        weights['W7'] -= lr * derivative_out * s1\n",
    "        weights['W8'] -= lr * derivative_out * s2\n",
    "        biases['b3'] -=lr * derivative_out\n",
    "        \n",
    "        # Calculate error for each neuron in the hidden layer\n",
    "        derivative_net_h1 = weights['W7'] * derivative_out\n",
    "        derivative_net_h2 = weights['W8'] * derivative_out\n",
    "        \n",
    "        # Calculate the derivative of the loss with respect to z1 and z2\n",
    "        derivative_h1 = derivative_net_h1 * sigmoid_derivative(s1)\n",
    "        derivative_h2 = derivative_net_h2 * sigmoid_derivative(s2)\n",
    "        \n",
    "        # Update weights and biases for hidden layer\n",
    "        weights['W1'] -= lr * derivative_h1 * x1\n",
    "        weights['W2'] -= lr * derivative_h1 * x2\n",
    "        weights['W3'] -= lr * derivative_h1 * x3\n",
    "        weights['W4'] -= lr * derivative_h2 * x1\n",
    "        weights['W5'] -= lr * derivative_h2 * x2\n",
    "        weights['W6'] -= lr * derivative_h2 * x3\n",
    "        biases['b1'] -= lr * derivative_h1\n",
    "        biases['b2'] -= lr * derivative_h2\n",
    "    # Calculate average loss for the epoch\n",
    "    average_loss = epoch_loss / len(X)\n",
    "    loss_values.append(average_loss)\n",
    "\n"
   ]
  },
  {
   "cell_type": "code",
   "execution_count": 22,
   "id": "346e0929-d6c3-4c83-8bbe-d99cb9ea00a2",
   "metadata": {},
   "outputs": [
    {
     "name": "stdout",
     "output_type": "stream",
     "text": [
      "Final Weights:\n",
      "W1 = -0.14622805704083056\n",
      "W2 = 0.1876328914145343\n",
      "W3 = 0.3981496514968653\n",
      "W4 = 0.9318576106946725\n",
      "W5 = -3.6428497017570773\n",
      "W6 = 0.1953752083640592\n",
      "W7 = -0.4854985404600134\n",
      "W8 = 4.8937733126155765\n",
      "Final Biases:\n",
      "b1 = -0.28539280743132633\n",
      "b2 = 0.20100026849462121\n",
      "b3 = -2.001136775366509\n",
      "loss_values = [0.2568332273290904, 0.2522198222160616, 0.24440028028959426, 0.22564216544738147, 0.19545717131604284, 0.1655900051822331, 0.14381265081536138, 0.1293030357271465, 0.11951144127272106, 0.11268885629773555, 0.10781506788612687, 0.10427355989010353, 0.101665178449825, 0.09971954884649223, 0.09824983175654398, 0.09712570437594006, 0.096255531274002, 0.09557425309375468, 0.09503515516561682, 0.09460428743672042]\n"
     ]
    },
    {
     "data": {
      "image/png": "[encoded data removed]",
      "text/plain": [
       "<Figure size 640x480 with 1 Axes>"
      ]
     },
     "metadata": {},
     "output_type": "display_data"
    }
   ],
   "source": [
    "print(\"Final Weights:\")\n",
    "print(\"W1 =\", weights['W1'])\n",
    "print(\"W2 =\", weights['W2'])\n",
    "print(\"W3 =\", weights['W3'])\n",
    "print(\"W4 =\", weights['W4'])\n",
    "print(\"W5 =\", weights['W5'])\n",
    "print(\"W6 =\", weights['W6'])\n",
    "print(\"W7 =\", weights['W7'])\n",
    "print(\"W8 =\", weights['W8'])\n",
    "\n",
    "print(\"Final Biases:\")\n",
    "print(\"b1 =\", biases['b1'])\n",
    "print(\"b2 =\", biases['b2'])\n",
    "print(\"b3 =\", biases['b3'])\n",
    "\n",
    "print('loss_values =' ,loss_values)\n",
    "# Plot the loss over epochs\n",
    "plt.plot(range(epochs), loss_values)\n",
    "plt.xlabel('Epochs')\n",
    "plt.ylabel('Loss')\n",
    "plt.title('Loss Over Epochs')\n",
    "plt.show()\n"
   ]
  },
  {
   "cell_type": "code",
   "execution_count": null,
   "id": "7220ab9e-7857-4367-8892-728714da15ef",
   "metadata": {},
   "outputs": [],
   "source": []
  }
 ],
 "metadata": {
  "kernelspec": {
   "display_name": "Python 3 (ipykernel)",
   "language": "python",
   "name": "python3"
  },
  "language_info": {
   "codemirror_mode": {
    "name": "ipython",
    "version": 3
   },
   "file_extension": ".py",
   "mimetype": "text/x-python",
   "name": "python",
   "nbconvert_exporter": "python",
   "pygments_lexer": "ipython3",
   "version": "3.11.5"
  }
 },
 "nbformat": 4,
 "nbformat_minor": 5
}
