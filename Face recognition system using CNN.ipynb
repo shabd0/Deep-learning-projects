{
  "nbformat": 4,
  "nbformat_minor": 0,
  "metadata": {
    "colab": {
      "provenance": []
    },
    "kernelspec": {
      "name": "python3",
      "display_name": "Python 3"
    },
    "language_info": {
      "name": "python"
    }
  },
  "cells": [
    {
      "cell_type": "code",
      "execution_count": 15,
      "metadata": {
        "id": "8U-GyfhRBsgS"
      },
      "outputs": [],
      "source": [
        "import os\n",
        "import time\n",
        "import pickle\n",
        "import numpy as np\n",
        "import tensorflow as tf\n",
        "from keras.layers import Dense\n",
        "import matplotlib.pyplot as plt\n",
        "from keras.layers import MaxPool2D\n",
        "from keras.models import Sequential\n",
        "from keras.layers import Convolution2D\n",
        "from tensorflow.keras import datasets, layers, models\n",
        "from keras.preprocessing.image import ImageDataGenerator"
      ]
    },
    {
      "cell_type": "markdown",
      "source": [
        "*URL of Data :*\n",
        "https://drive.google.com/drive/folders/17B4x0i-PlIa5KDsXO-8d8c9eY-VVMFau?usp=share_link"
      ],
      "metadata": {
        "id": "wXLMBashjrmu"
      }
    },
    {
      "cell_type": "code",
      "source": [
        "TrainingImagePath='/content/drive/MyDrive/Smart attendance dataset'\n",
        "train_datagen = ImageDataGenerator(\n",
        "        shear_range=0.1,\n",
        "        zoom_range=0.1,\n",
        "        horizontal_flip=True)\n",
        "test_datagen = ImageDataGenerator()\n",
        "training_set = train_datagen.flow_from_directory(\n",
        "        TrainingImagePath,\n",
        "        target_size=(64, 64),\n",
        "        batch_size=32,\n",
        "        class_mode='categorical')\n",
        "test_set = test_datagen.flow_from_directory(\n",
        "        TrainingImagePath,\n",
        "        target_size=(64, 64),\n",
        "        batch_size=32,\n",
        "        class_mode='categorical')\n",
        "test_set.class_indices"
      ],
      "metadata": {
        "colab": {
          "base_uri": "https://localhost:8080/"
        },
        "id": "n4ku0TnFB8z3",
        "outputId": "879ae5e8-3d71-447c-db04-385c2686fb85"
      },
      "execution_count": 6,
      "outputs": [
        {
          "output_type": "stream",
          "name": "stdout",
          "text": [
            "Found 995 images belonging to 10 classes.\n",
            "Found 995 images belonging to 10 classes.\n"
          ]
        },
        {
          "output_type": "execute_result",
          "data": {
            "text/plain": [
              "{'Abir': 0,\n",
              " 'Fahim': 1,\n",
              " 'Hemel': 2,\n",
              " 'Nipa': 3,\n",
              " 'Rupak': 4,\n",
              " 'Sabiqul': 5,\n",
              " 'Shepon': 6,\n",
              " 'Tama': 7,\n",
              " 'Tamim': 8,\n",
              " 'Tarup': 9}"
            ]
          },
          "metadata": {},
          "execution_count": 6
        }
      ]
    },
    {
      "cell_type": "code",
      "source": [
        "# class_indices have the numeric tag for each face\n",
        "TrainClasses=training_set.class_indices\n",
        "ResultMap={}\n",
        "for faceValue,faceName in zip(TrainClasses.values(),TrainClasses.keys()):\n",
        "    ResultMap[faceValue]=faceName\n",
        "with open(\"ResultsMap.pkl\", 'wb') as fileWriteStream:\n",
        "    pickle.dump(ResultMap, fileWriteStream)\n",
        "print(\"Mapping of Face and its ID\",ResultMap)\n",
        "OutputNeurons=len(ResultMap)\n",
        "print('\\n The Number of output neurons: ', OutputNeurons)"
      ],
      "metadata": {
        "colab": {
          "base_uri": "https://localhost:8080/"
        },
        "id": "dGin-LYZB82f",
        "outputId": "fc7e37e2-c09c-45ab-d530-ce4c705891a0"
      },
      "execution_count": 7,
      "outputs": [
        {
          "output_type": "stream",
          "name": "stdout",
          "text": [
            "Mapping of Face and its ID {0: 'Abir', 1: 'Fahim', 2: 'Hemel', 3: 'Nipa', 4: 'Rupak', 5: 'Sabiqul', 6: 'Shepon', 7: 'Tama', 8: 'Tamim', 9: 'Tarup'}\n",
            "\n",
            " The Number of output neurons:  10\n"
          ]
        }
      ]
    },
    {
      "cell_type": "code",
      "source": [
        "#STEP_1 Initializing the Convolutional Neural Network\n",
        "classifier= Sequential()\n",
        "\n",
        "# STEP_2 MAX Pooling\n",
        "classifier.add(MaxPool2D(pool_size=(2,2)))\n",
        "\n",
        "# ADDITIONAL LAYER of CONVOLUTION for better accuracy\n",
        "classifier.add(Convolution2D(64, kernel_size=(5, 5), strides=(1, 1), activation='relu'))\n",
        "\n",
        "classifier.add(MaxPool2D(pool_size=(2,2)))\n",
        "\n",
        "# STEP_3 FLattening\n",
        "classifier.add(Flatten())\n",
        "\n",
        "# STEP_4 Fully Connected Neural Network\n",
        "classifier.add(Dense(64, activation='relu'))\n",
        "\n",
        "classifier.add(Dense(OutputNeurons, activation='softmax'))\n",
        "\n",
        "# Compiling the CNN\n",
        "classifier.compile(loss='categorical_crossentropy', optimizer = 'adam', metrics=[\"accuracy\"])\n",
        ""
      ],
      "metadata": {
        "id": "DjuVST3NgADw"
      },
      "execution_count": 8,
      "outputs": []
    },
    {
      "cell_type": "code",
      "source": [
        "# Measuring the time taken by the model to train\n",
        "StartTime=time.time()\n",
        "\n",
        "# Starting the model training\n",
        "classifier.fit_generator(\n",
        "                    training_set,\n",
        "                    steps_per_epoch=30,\n",
        "                    epochs=10,\n",
        "                    validation_data=test_set,\n",
        "                    validation_steps=10)\n",
        "\n",
        "EndTime=time.time()\n",
        "print(\" Total Time Taken: \", round((EndTime-StartTime)/60), 'Minutes ######')\n"
      ],
      "metadata": {
        "colab": {
          "base_uri": "https://localhost:8080/"
        },
        "id": "jFgbmPgIB84-",
        "outputId": "a94a92c5-32e3-4189-c7ee-3b9585da9181"
      },
      "execution_count": 10,
      "outputs": [
        {
          "output_type": "stream",
          "name": "stderr",
          "text": [
            "<ipython-input-10-545687561585>:5: UserWarning: `Model.fit_generator` is deprecated and will be removed in a future version. Please use `Model.fit`, which supports generators.\n",
            "  classifier.fit_generator(\n"
          ]
        },
        {
          "output_type": "stream",
          "name": "stdout",
          "text": [
            "Epoch 1/10\n",
            "30/30 [==============================] - 50s 2s/step - loss: 0.3627 - accuracy: 0.8894 - val_loss: 0.0294 - val_accuracy: 0.9969\n",
            "Epoch 2/10\n",
            "30/30 [==============================] - 9s 315ms/step - loss: 0.0541 - accuracy: 0.9871 - val_loss: 0.0374 - val_accuracy: 0.9875\n",
            "Epoch 3/10\n",
            "30/30 [==============================] - 10s 346ms/step - loss: 0.0076 - accuracy: 0.9989 - val_loss: 0.0085 - val_accuracy: 0.9969\n",
            "Epoch 4/10\n",
            "30/30 [==============================] - 9s 301ms/step - loss: 0.0126 - accuracy: 0.9957 - val_loss: 0.0116 - val_accuracy: 0.9969\n",
            "Epoch 5/10\n",
            "30/30 [==============================] - 9s 305ms/step - loss: 0.0349 - accuracy: 0.9882 - val_loss: 0.2728 - val_accuracy: 0.9156\n",
            "Epoch 6/10\n",
            "30/30 [==============================] - 10s 342ms/step - loss: 0.1733 - accuracy: 0.9538 - val_loss: 0.0096 - val_accuracy: 1.0000\n",
            "Epoch 7/10\n",
            "30/30 [==============================] - 9s 310ms/step - loss: 0.0101 - accuracy: 0.9979 - val_loss: 0.0021 - val_accuracy: 1.0000\n",
            "Epoch 8/10\n",
            "30/30 [==============================] - 9s 307ms/step - loss: 0.0106 - accuracy: 0.9946 - val_loss: 3.0392e-04 - val_accuracy: 1.0000\n",
            "Epoch 9/10\n",
            "30/30 [==============================] - 10s 343ms/step - loss: 0.0020 - accuracy: 0.9989 - val_loss: 2.6891e-04 - val_accuracy: 1.0000\n",
            "Epoch 10/10\n",
            "30/30 [==============================] - 9s 300ms/step - loss: 6.7817e-04 - accuracy: 1.0000 - val_loss: 2.2723e-05 - val_accuracy: 1.0000\n",
            " Total Time Taken:  3 Minutes ######\n"
          ]
        }
      ]
    },
    {
      "cell_type": "markdown",
      "source": [
        " *Now We Will Test The Model*\n",
        "\n",
        " *URL of Test Data:* /content/drive/MyDrive/test"
      ],
      "metadata": {
        "id": "uPIFXwGxmlKV"
      }
    },
    {
      "cell_type": "code",
      "source": [
        "def predict(ImagePath,classifier):\n",
        "  ResultMap={0:'Abir', 1:'Fahim', 2:'Hemel', 3:'Nipa', 4:'Rupak', 5:'Sabiqul', 6:'Shepon', 7:'Tama', 8:'Tamim', 9:'Tarup'}\n",
        "  photo_names= os.listdir(ImagePath)\n",
        "  for image_name in photo_names:\n",
        "    test_image=image.load_img(ImagePath+'/'+image_name,target_size=(64, 64))\n",
        "    test_image=image.img_to_array(test_image)\n",
        "    test_image=np.expand_dims(test_image,axis=0)\n",
        "    result=classifier.predict(test_image,verbose=0)\n",
        "    print('***'*10)\n",
        "    print('Prediction is: ',ResultMap[np.argmax(result)])\n",
        "    if ResultMap[np.argmax(result)] in image_name:\n",
        "      print('correct :)')\n",
        "    else:\n",
        "      print('not correct  :(')\n",
        "\n",
        "predict('/content/drive/MyDrive/test',classifier)"
      ],
      "metadata": {
        "colab": {
          "base_uri": "https://localhost:8080/"
        },
        "id": "i0tDkzKBi4By",
        "outputId": "cdfeebdf-c036-46cb-eb98-1e82e8b45e18"
      },
      "execution_count": 17,
      "outputs": [
        {
          "output_type": "stream",
          "name": "stdout",
          "text": [
            "******************************\n",
            "Prediction is:  Hemel\n",
            "correct :)\n",
            "******************************\n",
            "Prediction is:  Abir\n",
            "correct :)\n",
            "******************************\n",
            "Prediction is:  Fahim\n",
            "correct :)\n",
            "******************************\n",
            "Prediction is:  Rupak\n",
            "correct :)\n",
            "******************************\n",
            "Prediction is:  Sabiqul\n",
            "correct :)\n",
            "******************************\n",
            "Prediction is:  Shepon\n",
            "correct :)\n",
            "******************************\n",
            "Prediction is:  Nipa\n",
            "correct :)\n",
            "******************************\n",
            "Prediction is:  Tamim\n",
            "correct :)\n",
            "******************************\n",
            "Prediction is:  Tama\n",
            "correct :)\n",
            "******************************\n",
            "Prediction is:  Tarup\n",
            "correct :)\n"
          ]
        }
      ]
    },
    {
      "cell_type": "code",
      "source": [],
      "metadata": {
        "id": "OWhAz9qSmkXT"
      },
      "execution_count": 13,
      "outputs": []
    },
    {
      "cell_type": "code",
      "source": [],
      "metadata": {
        "id": "79M3UgQdmkgo"
      },
      "execution_count": 13,
      "outputs": []
    }
  ]
}